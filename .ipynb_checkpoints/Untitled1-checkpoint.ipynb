{
 "cells": [
  {
   "cell_type": "code",
   "execution_count": 1,
   "metadata": {
    "id": "2p-7w3IWRFkv"
   },
   "outputs": [
    {
     "ename": "ImportError",
     "evalue": "Keras requires TensorFlow 2.2 or higher. Install TensorFlow via `pip install tensorflow`",
     "output_type": "error",
     "traceback": [
      "\u001b[0;31m---------------------------------------------------------------------------\u001b[0m",
      "\u001b[0;31mImportError\u001b[0m                               Traceback (most recent call last)",
      "\u001b[0;32m~/anaconda3/envs/ari/lib/python3.6/site-packages/keras/__init__.py\u001b[0m in \u001b[0;36m<module>\u001b[0;34m\u001b[0m\n\u001b[1;32m      2\u001b[0m \u001b[0;32mtry\u001b[0m\u001b[0;34m:\u001b[0m\u001b[0;34m\u001b[0m\u001b[0;34m\u001b[0m\u001b[0m\n\u001b[0;32m----> 3\u001b[0;31m     \u001b[0;32mfrom\u001b[0m \u001b[0mtensorflow\u001b[0m\u001b[0;34m.\u001b[0m\u001b[0mkeras\u001b[0m\u001b[0;34m.\u001b[0m\u001b[0mlayers\u001b[0m\u001b[0;34m.\u001b[0m\u001b[0mexperimental\u001b[0m\u001b[0;34m.\u001b[0m\u001b[0mpreprocessing\u001b[0m \u001b[0;32mimport\u001b[0m \u001b[0mRandomRotation\u001b[0m\u001b[0;34m\u001b[0m\u001b[0;34m\u001b[0m\u001b[0m\n\u001b[0m\u001b[1;32m      4\u001b[0m \u001b[0;32mexcept\u001b[0m \u001b[0mImportError\u001b[0m\u001b[0;34m:\u001b[0m\u001b[0;34m\u001b[0m\u001b[0;34m\u001b[0m\u001b[0m\n",
      "\u001b[0;31mImportError\u001b[0m: cannot import name 'RandomRotation'",
      "\nDuring handling of the above exception, another exception occurred:\n",
      "\u001b[0;31mImportError\u001b[0m                               Traceback (most recent call last)",
      "\u001b[0;32m<ipython-input-1-14b3387f0410>\u001b[0m in \u001b[0;36m<module>\u001b[0;34m\u001b[0m\n\u001b[1;32m      2\u001b[0m \u001b[0;32mimport\u001b[0m \u001b[0mpandas\u001b[0m \u001b[0;32mas\u001b[0m \u001b[0mpd\u001b[0m\u001b[0;34m\u001b[0m\u001b[0;34m\u001b[0m\u001b[0m\n\u001b[1;32m      3\u001b[0m \u001b[0;32mimport\u001b[0m \u001b[0mnumpy\u001b[0m \u001b[0;32mas\u001b[0m \u001b[0mnp\u001b[0m\u001b[0;34m\u001b[0m\u001b[0;34m\u001b[0m\u001b[0m\n\u001b[0;32m----> 4\u001b[0;31m \u001b[0;32mfrom\u001b[0m \u001b[0mkeras\u001b[0m\u001b[0;34m.\u001b[0m\u001b[0mmodels\u001b[0m \u001b[0;32mimport\u001b[0m \u001b[0mSequential\u001b[0m\u001b[0;34m\u001b[0m\u001b[0;34m\u001b[0m\u001b[0m\n\u001b[0m\u001b[1;32m      5\u001b[0m \u001b[0;32mfrom\u001b[0m \u001b[0mkeras\u001b[0m\u001b[0;34m.\u001b[0m\u001b[0mlayers\u001b[0m \u001b[0;32mimport\u001b[0m \u001b[0mDense\u001b[0m\u001b[0;34m\u001b[0m\u001b[0;34m\u001b[0m\u001b[0m\n\u001b[1;32m      6\u001b[0m \u001b[0;32mfrom\u001b[0m \u001b[0mkeras\u001b[0m\u001b[0;34m.\u001b[0m\u001b[0mwrappers\u001b[0m\u001b[0;34m.\u001b[0m\u001b[0mscikit_learn\u001b[0m \u001b[0;32mimport\u001b[0m \u001b[0mKerasRegressor\u001b[0m\u001b[0;34m\u001b[0m\u001b[0;34m\u001b[0m\u001b[0m\n",
      "\u001b[0;32m~/anaconda3/envs/ari/lib/python3.6/site-packages/keras/__init__.py\u001b[0m in \u001b[0;36m<module>\u001b[0;34m\u001b[0m\n\u001b[1;32m      4\u001b[0m \u001b[0;32mexcept\u001b[0m \u001b[0mImportError\u001b[0m\u001b[0;34m:\u001b[0m\u001b[0;34m\u001b[0m\u001b[0;34m\u001b[0m\u001b[0m\n\u001b[1;32m      5\u001b[0m     raise ImportError(\n\u001b[0;32m----> 6\u001b[0;31m         \u001b[0;34m'Keras requires TensorFlow 2.2 or higher. '\u001b[0m\u001b[0;34m\u001b[0m\u001b[0;34m\u001b[0m\u001b[0m\n\u001b[0m\u001b[1;32m      7\u001b[0m         'Install TensorFlow via `pip install tensorflow`')\n\u001b[1;32m      8\u001b[0m \u001b[0;34m\u001b[0m\u001b[0m\n",
      "\u001b[0;31mImportError\u001b[0m: Keras requires TensorFlow 2.2 or higher. Install TensorFlow via `pip install tensorflow`"
     ]
    }
   ],
   "source": [
    "#import all the necessary libraries to read the data and build neural network\n",
    "import pandas as pd\n",
    "import numpy as np\n",
    "from keras.models import Sequential\n",
    "from keras.layers import Dense\n",
    "from keras.wrappers.scikit_learn import KerasRegressor\n",
    "from sklearn.model_selection import cross_val_score\n",
    "from sklearn.model_selection import KFold\n",
    "from sklearn.preprocessing import StandardScaler\n",
    "from sklearn.pipeline import Pipeline"
   ]
  },
  {
   "cell_type": "code",
   "execution_count": 31,
   "metadata": {
    "id": "zy_pnqPjWWk2"
   },
   "outputs": [],
   "source": [
    "#read the data\n",
    "planet_info = pd.read_csv('planetdata.csv') "
   ]
  },
  {
   "cell_type": "code",
   "execution_count": 32,
   "metadata": {
    "colab": {
     "base_uri": "https://localhost:8080/",
     "height": 128
    },
    "id": "e4jYIcJfWdgG",
    "outputId": "8e7ff3ac-cfc8-4bc1-9ab5-8379b6028c84"
   },
   "outputs": [
    {
     "data": {
      "text/html": [
       "<div>\n",
       "<style scoped>\n",
       "    .dataframe tbody tr th:only-of-type {\n",
       "        vertical-align: middle;\n",
       "    }\n",
       "\n",
       "    .dataframe tbody tr th {\n",
       "        vertical-align: top;\n",
       "    }\n",
       "\n",
       "    .dataframe thead th {\n",
       "        text-align: right;\n",
       "    }\n",
       "</style>\n",
       "<table border=\"1\" class=\"dataframe\">\n",
       "  <thead>\n",
       "    <tr style=\"text-align: right;\">\n",
       "      <th></th>\n",
       "      <th>hostnames</th>\n",
       "      <th>fpl_letter</th>\n",
       "      <th>fst_mass</th>\n",
       "      <th>fst_masserr1</th>\n",
       "      <th>fst_masserr2</th>\n",
       "      <th>fst_age</th>\n",
       "      <th>fst_ageerr1</th>\n",
       "      <th>fst_ageerr2</th>\n",
       "      <th>fst_met</th>\n",
       "      <th>fst_meterr1</th>\n",
       "      <th>fst_meterr2</th>\n",
       "      <th>fst_dist</th>\n",
       "      <th>fst_disterr1</th>\n",
       "      <th>fst_disterr2</th>\n",
       "      <th>Nss</th>\n",
       "      <th>Pnull</th>\n",
       "      <th>BIC1</th>\n",
       "      <th>rhoN</th>\n",
       "      <th>Phigh</th>\n",
       "      <th>HJflag</th>\n",
       "      <th>insamp</th>\n",
       "      <th>fpl_bmasse</th>\n",
       "      <th>fpl_bmasseerr1</th>\n",
       "      <th>fpl_bmasseerr2</th>\n",
       "      <th>fpl_smax</th>\n",
       "      <th>fpl_smaxerr1</th>\n",
       "      <th>fpl_smaxerr2</th>\n",
       "      <th>fpl_orbper</th>\n",
       "      <th>fpl_orbpererr1</th>\n",
       "      <th>fpl_orbpererr2</th>\n",
       "      <th>fpl_eccen</th>\n",
       "      <th>fpl_eccenerr1</th>\n",
       "      <th>fpl_eccenerr2</th>\n",
       "      <th>fpl_rade</th>\n",
       "      <th>fpl_radeerr1</th>\n",
       "      <th>fpl_radeerr2</th>\n",
       "      <th>fpl_dens</th>\n",
       "      <th>fpl_denserr1</th>\n",
       "      <th>fpl_denserr2</th>\n",
       "    </tr>\n",
       "  </thead>\n",
       "  <tbody>\n",
       "    <tr>\n",
       "      <th>1520</th>\n",
       "      <td>ups And</td>\n",
       "      <td>d</td>\n",
       "      <td>1.3</td>\n",
       "      <td>-</td>\n",
       "      <td>-</td>\n",
       "      <td>5.0</td>\n",
       "      <td>-</td>\n",
       "      <td>-</td>\n",
       "      <td>0.04</td>\n",
       "      <td>0.03</td>\n",
       "      <td>-0.03</td>\n",
       "      <td>13.41</td>\n",
       "      <td>0.06</td>\n",
       "      <td>-0.06</td>\n",
       "      <td>600</td>\n",
       "      <td>0.000038</td>\n",
       "      <td>44.025699</td>\n",
       "      <td>1.020776</td>\n",
       "      <td>0.824312</td>\n",
       "      <td>Y</td>\n",
       "      <td>N</td>\n",
       "      <td>1313.22</td>\n",
       "      <td>9.21668</td>\n",
       "      <td>-9.21668</td>\n",
       "      <td>2.51329</td>\n",
       "      <td>0.00075</td>\n",
       "      <td>-0.00075</td>\n",
       "      <td>1276.46</td>\n",
       "      <td>0.57</td>\n",
       "      <td>-0.57</td>\n",
       "      <td>0.2987</td>\n",
       "      <td>0.0072</td>\n",
       "      <td>-0.0072</td>\n",
       "      <td>13.0</td>\n",
       "      <td>-</td>\n",
       "      <td>-</td>\n",
       "      <td>3.28</td>\n",
       "      <td>-</td>\n",
       "      <td>-</td>\n",
       "    </tr>\n",
       "    <tr>\n",
       "      <th>1521</th>\n",
       "      <td>xi Aql</td>\n",
       "      <td>b</td>\n",
       "      <td>2.2</td>\n",
       "      <td>-</td>\n",
       "      <td>-</td>\n",
       "      <td>7.1</td>\n",
       "      <td>3.6</td>\n",
       "      <td>-3.6</td>\n",
       "      <td>-0.205</td>\n",
       "      <td>0.039</td>\n",
       "      <td>-0.039</td>\n",
       "      <td>56.27</td>\n",
       "      <td>0.56</td>\n",
       "      <td>-0.56</td>\n",
       "      <td>600</td>\n",
       "      <td>0.000006</td>\n",
       "      <td>109.624710</td>\n",
       "      <td>0.817285</td>\n",
       "      <td>0.261341</td>\n",
       "      <td>N</td>\n",
       "      <td>N</td>\n",
       "      <td>890.0</td>\n",
       "      <td>-</td>\n",
       "      <td>-</td>\n",
       "      <td>0.68</td>\n",
       "      <td>-</td>\n",
       "      <td>-</td>\n",
       "      <td>136.75</td>\n",
       "      <td>0.25</td>\n",
       "      <td>-0.25</td>\n",
       "      <td>0.0</td>\n",
       "      <td>-</td>\n",
       "      <td>-</td>\n",
       "      <td>13.2</td>\n",
       "      <td>-</td>\n",
       "      <td>-</td>\n",
       "      <td>2.13</td>\n",
       "      <td>-</td>\n",
       "      <td>-</td>\n",
       "    </tr>\n",
       "  </tbody>\n",
       "</table>\n",
       "</div>"
      ],
      "text/plain": [
       "     hostnames fpl_letter fst_mass  ... fpl_dens fpl_denserr1 fpl_denserr2\n",
       "1520   ups And          d      1.3  ...     3.28            -            -\n",
       "1521    xi Aql          b      2.2  ...     2.13            -            -\n",
       "\n",
       "[2 rows x 39 columns]"
      ]
     },
     "execution_count": 32,
     "metadata": {
      "tags": []
     },
     "output_type": "execute_result"
    }
   ],
   "source": [
    "planet_info.tail(2)"
   ]
  },
  {
   "cell_type": "code",
   "execution_count": 33,
   "metadata": {
    "id": "Gu5ZLa6FWffE"
   },
   "outputs": [],
   "source": [
    "#seems that fpl_letter won't have any significance to the p value\n",
    "planet_info = planet_info.drop(['fpl_letter','hostnames'], axis = 1)"
   ]
  },
  {
   "cell_type": "code",
   "execution_count": 41,
   "metadata": {
    "id": "uRl2fU1FbSuQ"
   },
   "outputs": [],
   "source": [
    "#convert colums containing Y and N into numeric 1 and 0 to make it\n",
    "#suitable for feeding into the neural network\n",
    "def binary_text_to_integer_class(value):\n",
    "  if value == \"Y\":\n",
    "    return 1\n",
    "  else:\n",
    "    return 0\n"
   ]
  },
  {
   "cell_type": "code",
   "execution_count": 35,
   "metadata": {
    "id": "I0emuNBIXTxa"
   },
   "outputs": [],
   "source": [
    "#change HJflag and insamp into numeric using above function\n",
    "planet_info['HJflag'] = planet_info['HJflag'].apply(binary_text_to_integer_class)\n",
    "planet_info['insamp'] = planet_info['insamp'].apply(binary_text_to_integer_class)"
   ]
  },
  {
   "cell_type": "code",
   "execution_count": 36,
   "metadata": {
    "colab": {
     "base_uri": "https://localhost:8080/",
     "height": 128
    },
    "id": "XWDnoyvkXcV2",
    "outputId": "1884751c-26b9-482f-c0db-9061b6335252"
   },
   "outputs": [
    {
     "data": {
      "text/html": [
       "<div>\n",
       "<style scoped>\n",
       "    .dataframe tbody tr th:only-of-type {\n",
       "        vertical-align: middle;\n",
       "    }\n",
       "\n",
       "    .dataframe tbody tr th {\n",
       "        vertical-align: top;\n",
       "    }\n",
       "\n",
       "    .dataframe thead th {\n",
       "        text-align: right;\n",
       "    }\n",
       "</style>\n",
       "<table border=\"1\" class=\"dataframe\">\n",
       "  <thead>\n",
       "    <tr style=\"text-align: right;\">\n",
       "      <th></th>\n",
       "      <th>fst_mass</th>\n",
       "      <th>fst_masserr1</th>\n",
       "      <th>fst_masserr2</th>\n",
       "      <th>fst_age</th>\n",
       "      <th>fst_ageerr1</th>\n",
       "      <th>fst_ageerr2</th>\n",
       "      <th>fst_met</th>\n",
       "      <th>fst_meterr1</th>\n",
       "      <th>fst_meterr2</th>\n",
       "      <th>fst_dist</th>\n",
       "      <th>fst_disterr1</th>\n",
       "      <th>fst_disterr2</th>\n",
       "      <th>Nss</th>\n",
       "      <th>Pnull</th>\n",
       "      <th>BIC1</th>\n",
       "      <th>rhoN</th>\n",
       "      <th>Phigh</th>\n",
       "      <th>HJflag</th>\n",
       "      <th>insamp</th>\n",
       "      <th>fpl_bmasse</th>\n",
       "      <th>fpl_bmasseerr1</th>\n",
       "      <th>fpl_bmasseerr2</th>\n",
       "      <th>fpl_smax</th>\n",
       "      <th>fpl_smaxerr1</th>\n",
       "      <th>fpl_smaxerr2</th>\n",
       "      <th>fpl_orbper</th>\n",
       "      <th>fpl_orbpererr1</th>\n",
       "      <th>fpl_orbpererr2</th>\n",
       "      <th>fpl_eccen</th>\n",
       "      <th>fpl_eccenerr1</th>\n",
       "      <th>fpl_eccenerr2</th>\n",
       "      <th>fpl_rade</th>\n",
       "      <th>fpl_radeerr1</th>\n",
       "      <th>fpl_radeerr2</th>\n",
       "      <th>fpl_dens</th>\n",
       "      <th>fpl_denserr1</th>\n",
       "      <th>fpl_denserr2</th>\n",
       "    </tr>\n",
       "  </thead>\n",
       "  <tbody>\n",
       "    <tr>\n",
       "      <th>0</th>\n",
       "      <td>2.7</td>\n",
       "      <td>0.3</td>\n",
       "      <td>-0.3</td>\n",
       "      <td>-</td>\n",
       "      <td>-</td>\n",
       "      <td>-</td>\n",
       "      <td>-0.35</td>\n",
       "      <td>0.09</td>\n",
       "      <td>-0.09</td>\n",
       "      <td>93.37</td>\n",
       "      <td>1.92</td>\n",
       "      <td>-1.92</td>\n",
       "      <td>600</td>\n",
       "      <td>0.000342</td>\n",
       "      <td>41.136713</td>\n",
       "      <td>0.044479</td>\n",
       "      <td>0.000013</td>\n",
       "      <td>0</td>\n",
       "      <td>0</td>\n",
       "      <td>6165.6</td>\n",
       "      <td>476.7</td>\n",
       "      <td>-476.7</td>\n",
       "      <td>1.29</td>\n",
       "      <td>0.05</td>\n",
       "      <td>-0.05</td>\n",
       "      <td>326.03</td>\n",
       "      <td>0.32</td>\n",
       "      <td>-0.32</td>\n",
       "      <td>0.231</td>\n",
       "      <td>0.005</td>\n",
       "      <td>-0.005</td>\n",
       "      <td>12.1</td>\n",
       "      <td>-</td>\n",
       "      <td>-</td>\n",
       "      <td>19.1</td>\n",
       "      <td>-</td>\n",
       "      <td>-</td>\n",
       "    </tr>\n",
       "    <tr>\n",
       "      <th>1</th>\n",
       "      <td>2.78</td>\n",
       "      <td>0.69</td>\n",
       "      <td>-0.69</td>\n",
       "      <td>1.56</td>\n",
       "      <td>0.54</td>\n",
       "      <td>-0.54</td>\n",
       "      <td>-0.02</td>\n",
       "      <td>-</td>\n",
       "      <td>-</td>\n",
       "      <td>125.72</td>\n",
       "      <td>1.97</td>\n",
       "      <td>-1.97</td>\n",
       "      <td>600</td>\n",
       "      <td>0.000002</td>\n",
       "      <td>103.007276</td>\n",
       "      <td>3.278100</td>\n",
       "      <td>0.932356</td>\n",
       "      <td>0</td>\n",
       "      <td>0</td>\n",
       "      <td>4684.8142</td>\n",
       "      <td>794.575</td>\n",
       "      <td>-794.575</td>\n",
       "      <td>1.53</td>\n",
       "      <td>0.07</td>\n",
       "      <td>-0.07</td>\n",
       "      <td>516.21997</td>\n",
       "      <td>3.2</td>\n",
       "      <td>-3.2</td>\n",
       "      <td>0.08</td>\n",
       "      <td>0.03</td>\n",
       "      <td>-0.03</td>\n",
       "      <td>12.3</td>\n",
       "      <td>-</td>\n",
       "      <td>-</td>\n",
       "      <td>13.8</td>\n",
       "      <td>-</td>\n",
       "      <td>-</td>\n",
       "    </tr>\n",
       "  </tbody>\n",
       "</table>\n",
       "</div>"
      ],
      "text/plain": [
       "  fst_mass fst_masserr1 fst_masserr2  ... fpl_dens fpl_denserr1 fpl_denserr2\n",
       "0      2.7          0.3         -0.3  ...     19.1            -            -\n",
       "1     2.78         0.69        -0.69  ...     13.8            -            -\n",
       "\n",
       "[2 rows x 37 columns]"
      ]
     },
     "execution_count": 36,
     "metadata": {
      "tags": []
     },
     "output_type": "execute_result"
    }
   ],
   "source": [
    "planet_info.head(2)"
   ]
  },
  {
   "cell_type": "code",
   "execution_count": 60,
   "metadata": {
    "id": "tqSELeaDcOw6"
   },
   "outputs": [],
   "source": [
    "#split the data into training data and outcome\n",
    "#X_train holds features \n",
    "#Y_train holds outcome\n",
    "X_train = planet_info.loc[:, planet_info.columns != 'Phigh']\n",
    "Y_train = planet_info['Phigh']"
   ]
  },
  {
   "cell_type": "code",
   "execution_count": 42,
   "metadata": {
    "colab": {
     "base_uri": "https://localhost:8080/"
    },
    "id": "E_a2TNHDgIDC",
    "outputId": "dc552764-d570-4b96-8063-393aeec69e42"
   },
   "outputs": [
    {
     "data": {
      "text/plain": [
       "(1522, 36)"
      ]
     },
     "execution_count": 42,
     "metadata": {
      "tags": []
     },
     "output_type": "execute_result"
    }
   ],
   "source": [
    "X_train.shape"
   ]
  },
  {
   "cell_type": "code",
   "execution_count": 44,
   "metadata": {
    "id": "mgs4QciKcvms"
   },
   "outputs": [],
   "source": [
    "# define base model with 2 layers \n",
    "def baseline_model():\n",
    "\t# create model\n",
    "\tmodel = Sequential()\n",
    "\tmodel.add(Dense(13, input_dim=36, kernel_initializer='normal', activation='relu'))\n",
    "\tmodel.add(Dense(1, kernel_initializer='normal'))\n",
    "\t# Compile model\n",
    "\tmodel.compile(loss='mean_squared_error', optimizer='adam')\n",
    "\treturn model"
   ]
  },
  {
   "cell_type": "code",
   "execution_count": 45,
   "metadata": {
    "colab": {
     "base_uri": "https://localhost:8080/"
    },
    "id": "65s342-Qcx27",
    "outputId": "45626da4-71a3-4782-e1d6-52887b263f1e"
   },
   "outputs": [
    {
     "name": "stderr",
     "output_type": "stream",
     "text": [
      "/usr/local/lib/python3.7/dist-packages/sklearn/model_selection/_validation.py:536: FitFailedWarning: Estimator fit failed. The score on this train-test partition for these parameters will be set to nan. Details: \n",
      "ValueError: Failed to convert a NumPy array to a Tensor (Unsupported object type float).\n",
      "\n",
      "  FitFailedWarning)\n",
      "/usr/local/lib/python3.7/dist-packages/sklearn/model_selection/_validation.py:536: FitFailedWarning: Estimator fit failed. The score on this train-test partition for these parameters will be set to nan. Details: \n",
      "ValueError: Failed to convert a NumPy array to a Tensor (Unsupported object type float).\n",
      "\n",
      "  FitFailedWarning)\n",
      "/usr/local/lib/python3.7/dist-packages/sklearn/model_selection/_validation.py:536: FitFailedWarning: Estimator fit failed. The score on this train-test partition for these parameters will be set to nan. Details: \n",
      "ValueError: Failed to convert a NumPy array to a Tensor (Unsupported object type float).\n",
      "\n",
      "  FitFailedWarning)\n",
      "/usr/local/lib/python3.7/dist-packages/sklearn/model_selection/_validation.py:536: FitFailedWarning: Estimator fit failed. The score on this train-test partition for these parameters will be set to nan. Details: \n",
      "ValueError: Failed to convert a NumPy array to a Tensor (Unsupported object type float).\n",
      "\n",
      "  FitFailedWarning)\n",
      "/usr/local/lib/python3.7/dist-packages/sklearn/model_selection/_validation.py:536: FitFailedWarning: Estimator fit failed. The score on this train-test partition for these parameters will be set to nan. Details: \n",
      "ValueError: Failed to convert a NumPy array to a Tensor (Unsupported object type float).\n",
      "\n",
      "  FitFailedWarning)\n",
      "/usr/local/lib/python3.7/dist-packages/sklearn/model_selection/_validation.py:536: FitFailedWarning: Estimator fit failed. The score on this train-test partition for these parameters will be set to nan. Details: \n",
      "ValueError: Failed to convert a NumPy array to a Tensor (Unsupported object type float).\n",
      "\n",
      "  FitFailedWarning)\n",
      "/usr/local/lib/python3.7/dist-packages/sklearn/model_selection/_validation.py:536: FitFailedWarning: Estimator fit failed. The score on this train-test partition for these parameters will be set to nan. Details: \n",
      "ValueError: Failed to convert a NumPy array to a Tensor (Unsupported object type float).\n",
      "\n",
      "  FitFailedWarning)\n",
      "/usr/local/lib/python3.7/dist-packages/sklearn/model_selection/_validation.py:536: FitFailedWarning: Estimator fit failed. The score on this train-test partition for these parameters will be set to nan. Details: \n",
      "ValueError: Failed to convert a NumPy array to a Tensor (Unsupported object type float).\n",
      "\n",
      "  FitFailedWarning)\n",
      "/usr/local/lib/python3.7/dist-packages/sklearn/model_selection/_validation.py:536: FitFailedWarning: Estimator fit failed. The score on this train-test partition for these parameters will be set to nan. Details: \n",
      "ValueError: Failed to convert a NumPy array to a Tensor (Unsupported object type float).\n",
      "\n",
      "  FitFailedWarning)\n"
     ]
    },
    {
     "name": "stdout",
     "output_type": "stream",
     "text": [
      "Baseline: nan (nan) MSE\n"
     ]
    },
    {
     "name": "stderr",
     "output_type": "stream",
     "text": [
      "/usr/local/lib/python3.7/dist-packages/sklearn/model_selection/_validation.py:536: FitFailedWarning: Estimator fit failed. The score on this train-test partition for these parameters will be set to nan. Details: \n",
      "ValueError: Failed to convert a NumPy array to a Tensor (Unsupported object type float).\n",
      "\n",
      "  FitFailedWarning)\n"
     ]
    }
   ],
   "source": [
    "#build keras regressor model and train it for 25 epochs with batch size 32 \n",
    "#and use kfold cross validation\n",
    "estimator = KerasRegressor(build_fn=baseline_model, epochs=25, batch_size=32, verbose=0)\n",
    "kfold = KFold(n_splits=10)\n",
    "results = cross_val_score(estimator, X_train, Y_train, cv=kfold)\n",
    "print(\"Baseline: %.2f (%.2f) MSE\" % (results.mean(), results.std()))"
   ]
  },
  {
   "cell_type": "code",
   "execution_count": 57,
   "metadata": {
    "colab": {
     "base_uri": "https://localhost:8080/",
     "height": 35
    },
    "id": "oZdLMXWxg0KD",
    "outputId": "68d7b9bd-aabd-4b30-bf17-3ac9f029d032"
   },
   "outputs": [
    {
     "data": {
      "application/vnd.google.colaboratory.intrinsic+json": {
       "type": "string"
      },
      "text/plain": [
       "'-'"
      ]
     },
     "execution_count": 57,
     "metadata": {
      "tags": []
     },
     "output_type": "execute_result"
    }
   ],
   "source": [
    "planet_info[\"fst_masserr1\"][1521]"
   ]
  },
  {
   "cell_type": "code",
   "execution_count": null,
   "metadata": {
    "id": "Immd376kh84o"
   },
   "outputs": [],
   "source": []
  }
 ],
 "metadata": {
  "colab": {
   "name": "Untitled1.ipynb",
   "provenance": []
  },
  "kernelspec": {
   "display_name": "Python 3",
   "language": "python",
   "name": "python3"
  },
  "language_info": {
   "codemirror_mode": {
    "name": "ipython",
    "version": 3
   },
   "file_extension": ".py",
   "mimetype": "text/x-python",
   "name": "python",
   "nbconvert_exporter": "python",
   "pygments_lexer": "ipython3",
   "version": "3.6.13"
  }
 },
 "nbformat": 4,
 "nbformat_minor": 1
}
