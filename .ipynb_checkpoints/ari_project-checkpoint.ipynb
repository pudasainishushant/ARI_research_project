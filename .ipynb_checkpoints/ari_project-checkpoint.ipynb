{
 "cells": [
  {
   "cell_type": "markdown",
   "metadata": {},
   "source": [
    "# Library Imports\n"
   ]
  },
  {
   "cell_type": "code",
   "execution_count": 2,
   "metadata": {
    "id": "UeH7CzECusPR"
   },
   "outputs": [],
   "source": [
    "#import all the necessary libraries to read the data and build neural network\n",
    "import pandas as pd\n",
    "import numpy as np\n",
    "from tensorflow.keras.models import Sequential\n",
    "from tensorflow.keras.layers import Dense\n",
    "from tensorflow.keras.wrappers.scikit_learn import KerasRegressor\n",
    "from sklearn.model_selection import cross_val_score\n",
    "from sklearn.model_selection import KFold\n",
    "from sklearn.preprocessing import StandardScaler\n",
    "from sklearn.pipeline import Pipeline"
   ]
  },
  {
   "cell_type": "markdown",
   "metadata": {
    "id": "H0uVFhl2v4BM"
   },
   "source": [
    "# Reading data"
   ]
  },
  {
   "cell_type": "code",
   "execution_count": 3,
   "metadata": {
    "id": "5VVyAiR6u86D"
   },
   "outputs": [],
   "source": [
    "#read the data\n",
    "planet_info = pd.read_csv('planetdata.csv') "
   ]
  },
  {
   "cell_type": "code",
   "execution_count": 4,
   "metadata": {
    "colab": {
     "base_uri": "https://localhost:8080/"
    },
    "id": "HOaFuGAtPIib",
    "outputId": "71288f14-1ab7-4e30-fe90-337212241975"
   },
   "outputs": [
    {
     "data": {
      "text/plain": [
       "(1522, 39)"
      ]
     },
     "execution_count": 4,
     "metadata": {},
     "output_type": "execute_result"
    }
   ],
   "source": [
    "planet_info.shape"
   ]
  },
  {
   "cell_type": "markdown",
   "metadata": {
    "id": "QrOtDUmnwCSm"
   },
   "source": [
    "# list the last two rows of the data frame to have glimpse of the *data*"
   ]
  },
  {
   "cell_type": "code",
   "execution_count": 5,
   "metadata": {
    "colab": {
     "base_uri": "https://localhost:8080/",
     "height": 131
    },
    "id": "zPVgqrMLvASM",
    "outputId": "48cad3d0-51c7-486c-eb1d-cd09f1cadfd0"
   },
   "outputs": [
    {
     "data": {
      "text/html": [
       "<div>\n",
       "<style scoped>\n",
       "    .dataframe tbody tr th:only-of-type {\n",
       "        vertical-align: middle;\n",
       "    }\n",
       "\n",
       "    .dataframe tbody tr th {\n",
       "        vertical-align: top;\n",
       "    }\n",
       "\n",
       "    .dataframe thead th {\n",
       "        text-align: right;\n",
       "    }\n",
       "</style>\n",
       "<table border=\"1\" class=\"dataframe\">\n",
       "  <thead>\n",
       "    <tr style=\"text-align: right;\">\n",
       "      <th></th>\n",
       "      <th>hostnames</th>\n",
       "      <th>fpl_letter</th>\n",
       "      <th>fst_mass</th>\n",
       "      <th>fst_masserr1</th>\n",
       "      <th>fst_masserr2</th>\n",
       "      <th>fst_age</th>\n",
       "      <th>fst_ageerr1</th>\n",
       "      <th>fst_ageerr2</th>\n",
       "      <th>fst_met</th>\n",
       "      <th>fst_meterr1</th>\n",
       "      <th>...</th>\n",
       "      <th>fpl_orbpererr2</th>\n",
       "      <th>fpl_eccen</th>\n",
       "      <th>fpl_eccenerr1</th>\n",
       "      <th>fpl_eccenerr2</th>\n",
       "      <th>fpl_rade</th>\n",
       "      <th>fpl_radeerr1</th>\n",
       "      <th>fpl_radeerr2</th>\n",
       "      <th>fpl_dens</th>\n",
       "      <th>fpl_denserr1</th>\n",
       "      <th>fpl_denserr2</th>\n",
       "    </tr>\n",
       "  </thead>\n",
       "  <tbody>\n",
       "    <tr>\n",
       "      <th>1520</th>\n",
       "      <td>ups And</td>\n",
       "      <td>d</td>\n",
       "      <td>1.3</td>\n",
       "      <td>-</td>\n",
       "      <td>-</td>\n",
       "      <td>5.0</td>\n",
       "      <td>-</td>\n",
       "      <td>-</td>\n",
       "      <td>0.04</td>\n",
       "      <td>0.03</td>\n",
       "      <td>...</td>\n",
       "      <td>-0.57</td>\n",
       "      <td>0.2987</td>\n",
       "      <td>0.0072</td>\n",
       "      <td>-0.0072</td>\n",
       "      <td>13.0</td>\n",
       "      <td>-</td>\n",
       "      <td>-</td>\n",
       "      <td>3.28</td>\n",
       "      <td>-</td>\n",
       "      <td>-</td>\n",
       "    </tr>\n",
       "    <tr>\n",
       "      <th>1521</th>\n",
       "      <td>xi Aql</td>\n",
       "      <td>b</td>\n",
       "      <td>2.2</td>\n",
       "      <td>-</td>\n",
       "      <td>-</td>\n",
       "      <td>7.1</td>\n",
       "      <td>3.6</td>\n",
       "      <td>-3.6</td>\n",
       "      <td>-0.205</td>\n",
       "      <td>0.039</td>\n",
       "      <td>...</td>\n",
       "      <td>-0.25</td>\n",
       "      <td>0.0</td>\n",
       "      <td>-</td>\n",
       "      <td>-</td>\n",
       "      <td>13.2</td>\n",
       "      <td>-</td>\n",
       "      <td>-</td>\n",
       "      <td>2.13</td>\n",
       "      <td>-</td>\n",
       "      <td>-</td>\n",
       "    </tr>\n",
       "  </tbody>\n",
       "</table>\n",
       "<p>2 rows × 39 columns</p>\n",
       "</div>"
      ],
      "text/plain": [
       "     hostnames fpl_letter fst_mass fst_masserr1 fst_masserr2 fst_age  \\\n",
       "1520   ups And          d      1.3            -            -     5.0   \n",
       "1521    xi Aql          b      2.2            -            -     7.1   \n",
       "\n",
       "     fst_ageerr1 fst_ageerr2 fst_met fst_meterr1  ... fpl_orbpererr2  \\\n",
       "1520           -           -    0.04        0.03  ...          -0.57   \n",
       "1521         3.6        -3.6  -0.205       0.039  ...          -0.25   \n",
       "\n",
       "      fpl_eccen fpl_eccenerr1 fpl_eccenerr2  fpl_rade  fpl_radeerr1  \\\n",
       "1520     0.2987        0.0072       -0.0072      13.0             -   \n",
       "1521        0.0             -             -      13.2             -   \n",
       "\n",
       "      fpl_radeerr2  fpl_dens  fpl_denserr1 fpl_denserr2  \n",
       "1520             -      3.28             -            -  \n",
       "1521             -      2.13             -            -  \n",
       "\n",
       "[2 rows x 39 columns]"
      ]
     },
     "execution_count": 5,
     "metadata": {},
     "output_type": "execute_result"
    }
   ],
   "source": [
    "planet_info.tail(2)"
   ]
  },
  {
   "cell_type": "code",
   "execution_count": 6,
   "metadata": {
    "id": "24jWJY45vDwQ"
   },
   "outputs": [],
   "source": [
    "#seems that fpl_letter won't have any significance to the p value\n",
    "planet_info = planet_info.drop(['fpl_letter','hostnames'], axis = 1)"
   ]
  },
  {
   "cell_type": "code",
   "execution_count": 7,
   "metadata": {
    "id": "srKyPTLgvGxt"
   },
   "outputs": [],
   "source": [
    "#convert colums containing Y and N into numeric 1 and 0 to make it\n",
    "#suitable for feeding into the neural network\n",
    "def binary_text_to_integer_class(value):\n",
    "  if value == \"Y\":\n",
    "    return 1\n",
    "  else:\n",
    "    return 0\n"
   ]
  },
  {
   "cell_type": "code",
   "execution_count": 8,
   "metadata": {
    "id": "yFgXPUC2vJ9H"
   },
   "outputs": [],
   "source": [
    "#change HJflag and insamp into numeric using above function\n",
    "planet_info['HJflag'] = planet_info['HJflag'].apply(binary_text_to_integer_class)\n",
    "planet_info['insamp'] = planet_info['insamp'].apply(binary_text_to_integer_class)"
   ]
  },
  {
   "cell_type": "code",
   "execution_count": 9,
   "metadata": {
    "colab": {
     "base_uri": "https://localhost:8080/",
     "height": 131
    },
    "id": "62TPiB_1vLza",
    "outputId": "fb9a08a9-f421-4fc4-d139-6ac9e59ed544"
   },
   "outputs": [
    {
     "data": {
      "text/html": [
       "<div>\n",
       "<style scoped>\n",
       "    .dataframe tbody tr th:only-of-type {\n",
       "        vertical-align: middle;\n",
       "    }\n",
       "\n",
       "    .dataframe tbody tr th {\n",
       "        vertical-align: top;\n",
       "    }\n",
       "\n",
       "    .dataframe thead th {\n",
       "        text-align: right;\n",
       "    }\n",
       "</style>\n",
       "<table border=\"1\" class=\"dataframe\">\n",
       "  <thead>\n",
       "    <tr style=\"text-align: right;\">\n",
       "      <th></th>\n",
       "      <th>fst_mass</th>\n",
       "      <th>fst_masserr1</th>\n",
       "      <th>fst_masserr2</th>\n",
       "      <th>fst_age</th>\n",
       "      <th>fst_ageerr1</th>\n",
       "      <th>fst_ageerr2</th>\n",
       "      <th>fst_met</th>\n",
       "      <th>fst_meterr1</th>\n",
       "      <th>fst_meterr2</th>\n",
       "      <th>fst_dist</th>\n",
       "      <th>...</th>\n",
       "      <th>fpl_orbpererr2</th>\n",
       "      <th>fpl_eccen</th>\n",
       "      <th>fpl_eccenerr1</th>\n",
       "      <th>fpl_eccenerr2</th>\n",
       "      <th>fpl_rade</th>\n",
       "      <th>fpl_radeerr1</th>\n",
       "      <th>fpl_radeerr2</th>\n",
       "      <th>fpl_dens</th>\n",
       "      <th>fpl_denserr1</th>\n",
       "      <th>fpl_denserr2</th>\n",
       "    </tr>\n",
       "  </thead>\n",
       "  <tbody>\n",
       "    <tr>\n",
       "      <th>0</th>\n",
       "      <td>2.7</td>\n",
       "      <td>0.3</td>\n",
       "      <td>-0.3</td>\n",
       "      <td>-</td>\n",
       "      <td>-</td>\n",
       "      <td>-</td>\n",
       "      <td>-0.35</td>\n",
       "      <td>0.09</td>\n",
       "      <td>-0.09</td>\n",
       "      <td>93.37</td>\n",
       "      <td>...</td>\n",
       "      <td>-0.32</td>\n",
       "      <td>0.231</td>\n",
       "      <td>0.005</td>\n",
       "      <td>-0.005</td>\n",
       "      <td>12.1</td>\n",
       "      <td>-</td>\n",
       "      <td>-</td>\n",
       "      <td>19.1</td>\n",
       "      <td>-</td>\n",
       "      <td>-</td>\n",
       "    </tr>\n",
       "    <tr>\n",
       "      <th>1</th>\n",
       "      <td>2.78</td>\n",
       "      <td>0.69</td>\n",
       "      <td>-0.69</td>\n",
       "      <td>1.56</td>\n",
       "      <td>0.54</td>\n",
       "      <td>-0.54</td>\n",
       "      <td>-0.02</td>\n",
       "      <td>-</td>\n",
       "      <td>-</td>\n",
       "      <td>125.72</td>\n",
       "      <td>...</td>\n",
       "      <td>-3.2</td>\n",
       "      <td>0.08</td>\n",
       "      <td>0.03</td>\n",
       "      <td>-0.03</td>\n",
       "      <td>12.3</td>\n",
       "      <td>-</td>\n",
       "      <td>-</td>\n",
       "      <td>13.8</td>\n",
       "      <td>-</td>\n",
       "      <td>-</td>\n",
       "    </tr>\n",
       "  </tbody>\n",
       "</table>\n",
       "<p>2 rows × 37 columns</p>\n",
       "</div>"
      ],
      "text/plain": [
       "  fst_mass fst_masserr1 fst_masserr2 fst_age fst_ageerr1 fst_ageerr2 fst_met  \\\n",
       "0      2.7          0.3         -0.3       -           -           -   -0.35   \n",
       "1     2.78         0.69        -0.69    1.56        0.54       -0.54   -0.02   \n",
       "\n",
       "  fst_meterr1 fst_meterr2  fst_dist  ... fpl_orbpererr2 fpl_eccen  \\\n",
       "0        0.09       -0.09     93.37  ...          -0.32     0.231   \n",
       "1           -           -    125.72  ...           -3.2      0.08   \n",
       "\n",
       "   fpl_eccenerr1  fpl_eccenerr2  fpl_rade  fpl_radeerr1  fpl_radeerr2  \\\n",
       "0          0.005         -0.005      12.1             -             -   \n",
       "1           0.03          -0.03      12.3             -             -   \n",
       "\n",
       "   fpl_dens  fpl_denserr1 fpl_denserr2  \n",
       "0      19.1             -            -  \n",
       "1      13.8             -            -  \n",
       "\n",
       "[2 rows x 37 columns]"
      ]
     },
     "execution_count": 9,
     "metadata": {},
     "output_type": "execute_result"
    }
   ],
   "source": [
    "planet_info.head(2)"
   ]
  },
  {
   "cell_type": "code",
   "execution_count": 10,
   "metadata": {
    "id": "wB_3AqMyQGzX"
   },
   "outputs": [],
   "source": [
    "planet_info = planet_info.replace(to_replace =\"-\",\n",
    "                            value =0.0)\n"
   ]
  },
  {
   "cell_type": "code",
   "execution_count": 11,
   "metadata": {
    "id": "dquJIwiYvNfF"
   },
   "outputs": [],
   "source": [
    "#split the data into training data and outcome\n",
    "#X_train holds features \n",
    "#Y_train holds outcome\n",
    "X_train = planet_info.loc[:, planet_info.columns != 'Phigh']\n",
    "Y_train = planet_info['Phigh']"
   ]
  },
  {
   "cell_type": "code",
   "execution_count": 12,
   "metadata": {
    "id": "smyVUJH5vQJk"
   },
   "outputs": [],
   "source": [
    "from sklearn.model_selection import train_test_split\n",
    "\n",
    "X_train, X_test, y_train, y_test = train_test_split(X_train, Y_train, test_size=0.3, random_state=42)"
   ]
  },
  {
   "cell_type": "code",
   "execution_count": 13,
   "metadata": {
    "id": "a1Ku92U2VxlK"
   },
   "outputs": [],
   "source": [
    "X_train = X_train.to_numpy()\n",
    "y_train = y_train.to_numpy()"
   ]
  },
  {
   "cell_type": "code",
   "execution_count": 14,
   "metadata": {
    "id": "ulylQ8BkWoFD"
   },
   "outputs": [],
   "source": [
    "X_train = np.asarray(X_train).astype('float32')\n"
   ]
  },
  {
   "cell_type": "code",
   "execution_count": 15,
   "metadata": {
    "id": "YLQwAZh7W5h7"
   },
   "outputs": [],
   "source": [
    "y_train = np.asarray(y_train).astype('float32')\n"
   ]
  },
  {
   "cell_type": "code",
   "execution_count": 16,
   "metadata": {
    "id": "Hj0wRah9vS0T"
   },
   "outputs": [],
   "source": [
    "# define base model with 2 layers \n",
    "def baseline_model():\n",
    "\t# create model\n",
    "\tmodel = Sequential()\n",
    "\tmodel.add(Dense(13, input_dim=36, kernel_initializer='normal', activation='relu'))\n",
    "\tmodel.add(Dense(1, kernel_initializer='normal'))\n",
    "\t# Compile model\n",
    "\tmodel.compile(loss='mean_squared_error', optimizer='adam')\n",
    "\treturn model"
   ]
  },
  {
   "cell_type": "code",
   "execution_count": 17,
   "metadata": {
    "colab": {
     "base_uri": "https://localhost:8080/"
    },
    "id": "vTrHZkW7aQPH",
    "outputId": "395d9b18-622f-46f3-a417-041690ab6ccc"
   },
   "outputs": [
    {
     "name": "stdout",
     "output_type": "stream",
     "text": [
      "Epoch 1/10\n",
      "34/34 [==============================] - 0s 872us/step - loss: 2185.7837\n",
      "Epoch 2/10\n",
      "34/34 [==============================] - 0s 1ms/step - loss: 169.0559\n",
      "Epoch 3/10\n",
      "34/34 [==============================] - 0s 999us/step - loss: 3.5653\n",
      "Epoch 4/10\n",
      "34/34 [==============================] - 0s 1ms/step - loss: 1.9393\n",
      "Epoch 5/10\n",
      "34/34 [==============================] - 0s 979us/step - loss: 1.5475\n",
      "Epoch 6/10\n",
      "34/34 [==============================] - 0s 1ms/step - loss: 1.1935\n",
      "Epoch 7/10\n",
      "34/34 [==============================] - 0s 1ms/step - loss: 0.9901\n",
      "Epoch 8/10\n",
      "34/34 [==============================] - 0s 1ms/step - loss: 0.8427\n",
      "Epoch 9/10\n",
      "34/34 [==============================] - 0s 1ms/step - loss: 0.6929\n",
      "Epoch 10/10\n",
      "34/34 [==============================] - 0s 1ms/step - loss: 0.6799\n"
     ]
    },
    {
     "data": {
      "text/plain": [
       "<tensorflow.python.keras.callbacks.History at 0x7f1df5a80c88>"
      ]
     },
     "execution_count": 17,
     "metadata": {},
     "output_type": "execute_result"
    }
   ],
   "source": [
    "model = baseline_model()\n",
    "model.fit(X_train,y_train, epochs=10, batch_size=32, verbose=1)"
   ]
  },
  {
   "cell_type": "code",
   "execution_count": null,
   "metadata": {
    "colab": {
     "base_uri": "https://localhost:8080/"
    },
    "id": "Z0_EyXpxvUov",
    "outputId": "2341d480-e49d-4df9-84a9-2d0734c2f791"
   },
   "outputs": [
    {
     "name": "stdout",
     "output_type": "stream",
     "text": [
      "Baseline: -5.46 (14.14) MSE\n"
     ]
    }
   ],
   "source": [
    "#build keras regressor model and train it for 25 epochs with batch size 32 \n",
    "#and use kfold cross validation\n",
    "estimator = KerasRegressor(build_fn=baseline_model, epochs=25, batch_size=32, verbose=0)\n",
    "kfold = KFold(n_splits=10)\n",
    "results = cross_val_score(estimator, X_train, y_train, cv=kfold)\n",
    "print(\"Baseline: %.2f (%.2f) MSE\" % (results.mean(), results.std()))"
   ]
  },
  {
   "cell_type": "code",
   "execution_count": null,
   "metadata": {
    "colab": {
     "base_uri": "https://localhost:8080/"
    },
    "id": "RmISFSY7vWqG",
    "outputId": "ee80f7da-b9fc-47bf-afaa-08b0825796ee"
   },
   "outputs": [
    {
     "data": {
      "text/plain": [
       "array([ -6.32577038,  -0.63954699,  -0.28776535,  -0.35346672,\n",
       "        -0.49080363,  -2.22090602, -92.65856171,  -3.01690292,\n",
       "        -0.25577083,  -0.36280063])"
      ]
     },
     "execution_count": 123,
     "metadata": {
      "tags": []
     },
     "output_type": "execute_result"
    }
   ],
   "source": [
    "results  "
   ]
  },
  {
   "cell_type": "code",
   "execution_count": null,
   "metadata": {
    "id": "_MlNWcVCYSti"
   },
   "outputs": [],
   "source": []
  }
 ],
 "metadata": {
  "colab": {
   "collapsed_sections": [],
   "name": "ari.ipynb",
   "provenance": []
  },
  "kernelspec": {
   "display_name": "Python 3",
   "language": "python",
   "name": "python3"
  },
  "language_info": {
   "codemirror_mode": {
    "name": "ipython",
    "version": 3
   },
   "file_extension": ".py",
   "mimetype": "text/x-python",
   "name": "python",
   "nbconvert_exporter": "python",
   "pygments_lexer": "ipython3",
   "version": "3.6.13"
  }
 },
 "nbformat": 4,
 "nbformat_minor": 1
}
